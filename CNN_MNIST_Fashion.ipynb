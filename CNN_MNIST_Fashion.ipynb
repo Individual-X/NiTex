{
  "cells": [
    {
      "cell_type": "markdown",
      "metadata": {
        "id": "QY6Ujymz8hKW"
      },
      "source": [
        "Fetching data from online server as this assesment will run on Virtual Environment"
      ]
    },
    {
      "cell_type": "code",
      "execution_count": 4,
      "metadata": {
        "id": "e1W4s4XW8fPs"
      },
      "outputs": [],
      "source": [
        "#improting data sets from Keras dataset collection\n",
        "from keras.datasets import fashion_mnist"
      ]
    },
    {
      "cell_type": "code",
      "execution_count": 5,
      "metadata": {
        "id": "AIlrGkCzG0fF"
      },
      "outputs": [
        {
          "name": "stdout",
          "output_type": "stream",
          "text": [
            "Downloading data from https://storage.googleapis.com/tensorflow/tf-keras-datasets/train-labels-idx1-ubyte.gz\n",
            "29515/29515 [==============================] - 0s 2us/step\n",
            "Downloading data from https://storage.googleapis.com/tensorflow/tf-keras-datasets/train-images-idx3-ubyte.gz\n",
            "26421880/26421880 [==============================] - 28s 1us/step\n",
            "Downloading data from https://storage.googleapis.com/tensorflow/tf-keras-datasets/t10k-labels-idx1-ubyte.gz\n",
            "5148/5148 [==============================] - 0s 0s/step\n",
            "Downloading data from https://storage.googleapis.com/tensorflow/tf-keras-datasets/t10k-images-idx3-ubyte.gz\n",
            "4422102/4422102 [==============================] - 4s 1us/step\n"
          ]
        }
      ],
      "source": [
        "#load dataset as per needed\n",
        "(train_X, train_Y), (test_X, test_Y) = fashion_mnist.load_data()"
      ]
    },
    {
      "cell_type": "markdown",
      "metadata": {
        "id": "HREp9yFg9hBY"
      },
      "source": [
        "Extracting information for better understanding on data sets"
      ]
    },
    {
      "cell_type": "code",
      "execution_count": 6,
      "metadata": {
        "colab": {
          "base_uri": "https://localhost:8080/"
        },
        "id": "LWGeKHoSHKXT",
        "outputId": "14caea17-1b88-4b92-9887-293d0b1f9b95"
      },
      "outputs": [
        {
          "name": "stdout",
          "output_type": "stream",
          "text": [
            "(60000, 28, 28)\n",
            "(60000,)\n",
            "(10000, 28, 28)\n",
            "(10000,)\n"
          ]
        }
      ],
      "source": [
        "#printing data shape\n",
        "print(train_X.shape)\n",
        "print(train_Y.shape)\n",
        "print(test_X.shape)\n",
        "print(test_Y.shape)"
      ]
    },
    {
      "cell_type": "code",
      "execution_count": 7,
      "metadata": {
        "colab": {
          "base_uri": "https://localhost:8080/"
        },
        "id": "DshGLqD2DHRo",
        "outputId": "00885929-36ee-4124-af1f-ac4cd96fd962"
      },
      "outputs": [
        {
          "name": "stdout",
          "output_type": "stream",
          "text": [
            "[[  0   0   0   0   0   0   0   0   0   0   0   0   0   0   0   0   0   0\n",
            "    0   0   0   0   0   0   0   0   0   0]\n",
            " [  0   0   0   0   0   0   0   0   0   0   0   0   0   0   0   0   0   0\n",
            "    0   0   0   0   0   0   0   0   0   0]\n",
            " [  0   0   0   0   0   0   0   0   0   0   0   0   0   0   0   0   0   0\n",
            "    0   0   0   0   0   0   0   0   0   0]\n",
            " [  0   0   0   0   0   0   0   0   0   0   0   0   1   0   0  13  73   0\n",
            "    0   1   4   0   0   0   0   1   1   0]\n",
            " [  0   0   0   0   0   0   0   0   0   0   0   0   3   0  36 136 127  62\n",
            "   54   0   0   0   1   3   4   0   0   3]\n",
            " [  0   0   0   0   0   0   0   0   0   0   0   0   6   0 102 204 176 134\n",
            "  144 123  23   0   0   0   0  12  10   0]\n",
            " [  0   0   0   0   0   0   0   0   0   0   0   0   0   0 155 236 207 178\n",
            "  107 156 161 109  64  23  77 130  72  15]\n",
            " [  0   0   0   0   0   0   0   0   0   0   0   1   0  69 207 223 218 216\n",
            "  216 163 127 121 122 146 141  88 172  66]\n",
            " [  0   0   0   0   0   0   0   0   0   1   1   1   0 200 232 232 233 229\n",
            "  223 223 215 213 164 127 123 196 229   0]\n",
            " [  0   0   0   0   0   0   0   0   0   0   0   0   0 183 225 216 223 228\n",
            "  235 227 224 222 224 221 223 245 173   0]\n",
            " [  0   0   0   0   0   0   0   0   0   0   0   0   0 193 228 218 213 198\n",
            "  180 212 210 211 213 223 220 243 202   0]\n",
            " [  0   0   0   0   0   0   0   0   0   1   3   0  12 219 220 212 218 192\n",
            "  169 227 208 218 224 212 226 197 209  52]\n",
            " [  0   0   0   0   0   0   0   0   0   0   6   0  99 244 222 220 218 203\n",
            "  198 221 215 213 222 220 245 119 167  56]\n",
            " [  0   0   0   0   0   0   0   0   0   4   0   0  55 236 228 230 228 240\n",
            "  232 213 218 223 234 217 217 209  92   0]\n",
            " [  0   0   1   4   6   7   2   0   0   0   0   0 237 226 217 223 222 219\n",
            "  222 221 216 223 229 215 218 255  77   0]\n",
            " [  0   3   0   0   0   0   0   0   0  62 145 204 228 207 213 221 218 208\n",
            "  211 218 224 223 219 215 224 244 159   0]\n",
            " [  0   0   0   0  18  44  82 107 189 228 220 222 217 226 200 205 211 230\n",
            "  224 234 176 188 250 248 233 238 215   0]\n",
            " [  0  57 187 208 224 221 224 208 204 214 208 209 200 159 245 193 206 223\n",
            "  255 255 221 234 221 211 220 232 246   0]\n",
            " [  3 202 228 224 221 211 211 214 205 205 205 220 240  80 150 255 229 221\n",
            "  188 154 191 210 204 209 222 228 225   0]\n",
            " [ 98 233 198 210 222 229 229 234 249 220 194 215 217 241  65  73 106 117\n",
            "  168 219 221 215 217 223 223 224 229  29]\n",
            " [ 75 204 212 204 193 205 211 225 216 185 197 206 198 213 240 195 227 245\n",
            "  239 223 218 212 209 222 220 221 230  67]\n",
            " [ 48 203 183 194 213 197 185 190 194 192 202 214 219 221 220 236 225 216\n",
            "  199 206 186 181 177 172 181 205 206 115]\n",
            " [  0 122 219 193 179 171 183 196 204 210 213 207 211 210 200 196 194 191\n",
            "  195 191 198 192 176 156 167 177 210  92]\n",
            " [  0   0  74 189 212 191 175 172 175 181 185 188 189 188 193 198 204 209\n",
            "  210 210 211 188 188 194 192 216 170   0]\n",
            " [  2   0   0   0  66 200 222 237 239 242 246 243 244 221 220 193 191 179\n",
            "  182 182 181 176 166 168  99  58   0   0]\n",
            " [  0   0   0   0   0   0   0  40  61  44  72  41  35   0   0   0   0   0\n",
            "    0   0   0   0   0   0   0   0   0   0]\n",
            " [  0   0   0   0   0   0   0   0   0   0   0   0   0   0   0   0   0   0\n",
            "    0   0   0   0   0   0   0   0   0   0]\n",
            " [  0   0   0   0   0   0   0   0   0   0   0   0   0   0   0   0   0   0\n",
            "    0   0   0   0   0   0   0   0   0   0]]\n"
          ]
        }
      ],
      "source": [
        "print(train_X[0])"
      ]
    },
    {
      "cell_type": "code",
      "execution_count": 8,
      "metadata": {
        "colab": {
          "base_uri": "https://localhost:8080/"
        },
        "id": "HH0Bns1lBHNy",
        "outputId": "f198d11d-5ba7-4c05-9035-f81bcc8968ce"
      },
      "outputs": [
        {
          "data": {
            "text/plain": [
              "numpy.ndarray"
            ]
          },
          "execution_count": 8,
          "metadata": {},
          "output_type": "execute_result"
        }
      ],
      "source": [
        "type(train_X)"
      ]
    },
    {
      "cell_type": "code",
      "execution_count": 9,
      "metadata": {
        "colab": {
          "base_uri": "https://localhost:8080/"
        },
        "id": "w-l6Q_D6DtnH",
        "outputId": "fe617352-c14d-4c69-dd54-08f076756269"
      },
      "outputs": [
        {
          "name": "stdout",
          "output_type": "stream",
          "text": [
            "9\n"
          ]
        }
      ],
      "source": [
        "print(train_Y[0])"
      ]
    },
    {
      "cell_type": "code",
      "execution_count": 10,
      "metadata": {
        "colab": {
          "base_uri": "https://localhost:8080/"
        },
        "id": "SOnqPsByDzOn",
        "outputId": "2a85b835-ede9-4302-f2cc-80c2d9f29905"
      },
      "outputs": [
        {
          "name": "stdout",
          "output_type": "stream",
          "text": [
            "[[  0   0   0   0   0   0   0   0   0   0   0   0   0   0   0   0   0   0\n",
            "    0   0   0   0   0   0   0   0   0   0]\n",
            " [  0   0   0   0   0   0   0   0   0   0   0   0   0   0   0   0   0   0\n",
            "    0   0   0   0   0   0   0   0   0   0]\n",
            " [  0   0   0   0   0   0   0   0   0   0   0   0   0   0   0   0   0   0\n",
            "    0   0   0   0   0   0   0   0   0   0]\n",
            " [  0   0   0   0   0   0   0   0   0   0   0   0   0   0   0   0   0   0\n",
            "    0   0   0   0   0   0   0   0   0   0]\n",
            " [  0   0   0   0   0   0   0   0   0   0   0   0   0   0   0   0   0   0\n",
            "    0   0   0   0   0   0   0   0   0   0]\n",
            " [  0   0   0   0   0   0   0   0   0   0   0   0   0   0   0   0   0   0\n",
            "    0   0   0   0   0   0   0   0   0   0]\n",
            " [  0   0   0   0   0   0   0   0   0   0   0   0   0   0   0   0   0   0\n",
            "    0   0   0   0   0   0   0   0   0   0]\n",
            " [  0   0   0   0   0   0   0   0   0   0   0   0   0   0   0   0   0   0\n",
            "    0   3   1   0   0   7   0  37   0   0]\n",
            " [  0   0   0   0   0   0   0   0   0   0   0   0   0   1   2   0  27  84\n",
            "   11   0   0   0   0   0   0 119   0   0]\n",
            " [  0   0   0   0   0   0   0   0   0   0   0   0   0   1   0   0  88 143\n",
            "  110   0   0   0   0  22  93 106   0   0]\n",
            " [  0   0   0   0   0   0   0   0   0   0   0   0   0   4   0  53 129 120\n",
            "  147 175 157 166 135 154 168 140   0   0]\n",
            " [  0   0   0   0   0   0   0   0   0   0   0   0   2   0  11 137 130 128\n",
            "  160 176 159 167 178 149 151 144   0   0]\n",
            " [  0   0   0   0   0   0   1   0   2   1   0   3   0   0 115 114 106 137\n",
            "  168 153 156 165 167 143 157 158  11   0]\n",
            " [  0   0   0   0   1   0   0   0   0   0   3   0   0  89 139  90  94 153\n",
            "  149 131 151 169 172 143 159 169  48   0]\n",
            " [  0   0   0   0   0   0   2   4   1   0   0   0  98 136 110 109 110 162\n",
            "  135 144 149 159 167 144 158 169 119   0]\n",
            " [  0   0   2   2   1   2   0   0   0   0  26 108 117  99 111 117 136 156\n",
            "  134 154 154 156 160 141 147 156 178   0]\n",
            " [  3   0   0   0   0   0   0  21  53  92 117 111 103 115 129 134 143 154\n",
            "  165 170 154 151 154 143 138 150 165  43]\n",
            " [  0   0  23  54  65  76  85 118 128 123 111 113 118 127 125 139 133 136\n",
            "  160 140 155 161 144 155 172 161 189  62]\n",
            " [  0  68  94  90 111 114 111 114 115 127 135 136 143 126 127 151 154 143\n",
            "  148 125 162 162 144 138 153 162 196  58]\n",
            " [ 70 169 129 104  98 100  94  97  98 102 108 106 119 120 129 149 156 167\n",
            "  190 190 196 198 198 187 197 189 184  36]\n",
            " [ 16 126 171 188 188 184 171 153 135 120 126 127 146 185 195 209 208 255\n",
            "  209 177 245 252 251 251 247 220 206  49]\n",
            " [  0   0   0  12  67 106 164 185 199 210 211 210 208 190 150  82   8   0\n",
            "    0   0 178 208 188 175 162 158 151  11]\n",
            " [  0   0   0   0   0   0   0   0   0   0   0   0   0   0   0   0   0   0\n",
            "    0   0   0   0   0   0   0   0   0   0]\n",
            " [  0   0   0   0   0   0   0   0   0   0   0   0   0   0   0   0   0   0\n",
            "    0   0   0   0   0   0   0   0   0   0]\n",
            " [  0   0   0   0   0   0   0   0   0   0   0   0   0   0   0   0   0   0\n",
            "    0   0   0   0   0   0   0   0   0   0]\n",
            " [  0   0   0   0   0   0   0   0   0   0   0   0   0   0   0   0   0   0\n",
            "    0   0   0   0   0   0   0   0   0   0]\n",
            " [  0   0   0   0   0   0   0   0   0   0   0   0   0   0   0   0   0   0\n",
            "    0   0   0   0   0   0   0   0   0   0]\n",
            " [  0   0   0   0   0   0   0   0   0   0   0   0   0   0   0   0   0   0\n",
            "    0   0   0   0   0   0   0   0   0   0]]\n"
          ]
        }
      ],
      "source": [
        "print(test_X[0])"
      ]
    },
    {
      "cell_type": "code",
      "execution_count": 11,
      "metadata": {
        "id": "EV2HdCm5HUIf"
      },
      "outputs": [],
      "source": [
        "#visualise the data\n",
        "#import necessary library\n",
        "import numpy as np\n",
        "from keras.utils import to_categorical\n",
        "import matplotlib.pyplot as plt\n",
        "%matplotlib inline"
      ]
    },
    {
      "cell_type": "code",
      "execution_count": 12,
      "metadata": {
        "id": "ah5Ej1fDJAcy"
      },
      "outputs": [],
      "source": [
        "#usnique number of classes\n",
        "number_classes = np.unique(train_Y)"
      ]
    },
    {
      "cell_type": "code",
      "execution_count": 13,
      "metadata": {
        "colab": {
          "base_uri": "https://localhost:8080/"
        },
        "id": "rp9uC_flJRA5",
        "outputId": "7c9800ab-9946-404c-e491-d8a48ccbb0e5"
      },
      "outputs": [
        {
          "data": {
            "text/plain": [
              "array([0, 1, 2, 3, 4, 5, 6, 7, 8, 9], dtype=uint8)"
            ]
          },
          "execution_count": 13,
          "metadata": {},
          "output_type": "execute_result"
        }
      ],
      "source": [
        "number_classes"
      ]
    },
    {
      "cell_type": "code",
      "execution_count": 14,
      "metadata": {
        "id": "XWVyatiUJT2X"
      },
      "outputs": [],
      "source": [
        "#total number of classes\n",
        "len_classes = len(number_classes)"
      ]
    },
    {
      "cell_type": "code",
      "execution_count": 15,
      "metadata": {
        "colab": {
          "base_uri": "https://localhost:8080/"
        },
        "id": "AkHeB0-4JkPW",
        "outputId": "56ef006b-1abd-4a88-de93-28bd6e595002"
      },
      "outputs": [
        {
          "data": {
            "text/plain": [
              "10"
            ]
          },
          "execution_count": 15,
          "metadata": {},
          "output_type": "execute_result"
        }
      ],
      "source": [
        "len_classes"
      ]
    },
    {
      "cell_type": "code",
      "execution_count": 16,
      "metadata": {
        "colab": {
          "base_uri": "https://localhost:8080/",
          "height": 429
        },
        "id": "YvNEQn2IJn03",
        "outputId": "1d171c66-ea76-4b77-f9b4-87eb5f56a1df"
      },
      "outputs": [
        {
          "data": {
            "text/plain": [
              "<matplotlib.image.AxesImage at 0x1d95c42a810>"
            ]
          },
          "execution_count": 16,
          "metadata": {},
          "output_type": "execute_result"
        },
        {
          "data": {
            "image/png": "[encoded data removed]",
            "text/plain": [
              "<Figure size 1000x1000 with 2 Axes>"
            ]
          },
          "metadata": {},
          "output_type": "display_data"
        }
      ],
      "source": [
        "#plotting the datasets for\n",
        "plt.figure(figsize=[10,10])\n",
        "plt.subplot(121)\n",
        "plt.imshow(train_X[0,:,:], cmap =\"gray\")\n",
        "\n",
        "plt.subplot(122)\n",
        "plt.imshow(test_X[0, :, :], cmap = \"gray\")\n"
      ]
    },
    {
      "cell_type": "code",
      "execution_count": 17,
      "metadata": {
        "colab": {
          "base_uri": "https://localhost:8080/",
          "height": 806
        },
        "id": "zvH5b71IDZ_B",
        "outputId": "c9aba385-f594-428a-d30a-d30c661db70f"
      },
      "outputs": [
        {
          "data": {
            "image/png": "[encoded data removed]",
            "text/plain": [
              "<Figure size 800x800 with 25 Axes>"
            ]
          },
          "metadata": {},
          "output_type": "display_data"
        }
      ],
      "source": [
        "labels_map = {0: 'T-Shirt', 1: 'Trouser', 2: 'Pullover', 3: 'Dress', 4: 'Coat',\n",
        "              5: 'Sandal', 6: 'Shirt', 7: 'Sneaker', 8: 'Bag', 9: 'Ankle Boot'}\n",
        "columns = 5\n",
        "rows = 5\n",
        "fig = plt.figure(figsize=(8, 8))\n",
        "\n",
        "for i in range(1, columns * rows+1):\n",
        "    data_idx = np.random.randint(len(train_X))\n",
        "    img = train_X[data_idx].reshape([28, 28])\n",
        "    label = labels_map[train_Y[data_idx]]\n",
        "\n",
        "    fig.add_subplot(rows, columns, i)\n",
        "    plt.title(label)\n",
        "    plt.imshow(img, cmap='gray')\n",
        "    plt.axis('off')\n",
        "plt.tight_layout()\n",
        "plt.show()"
      ]
    },
    {
      "cell_type": "code",
      "execution_count": 18,
      "metadata": {
        "colab": {
          "base_uri": "https://localhost:8080/"
        },
        "id": "CwROr7vtMCRy",
        "outputId": "20f35aaa-a648-48cf-8495-16ddc711a74c"
      },
      "outputs": [
        {
          "data": {
            "text/plain": [
              "(60000, 28, 28)"
            ]
          },
          "execution_count": 18,
          "metadata": {},
          "output_type": "execute_result"
        }
      ],
      "source": [
        "train_X.shape"
      ]
    },
    {
      "cell_type": "code",
      "execution_count": 19,
      "metadata": {
        "id": "CurH-64w0SWu"
      },
      "outputs": [],
      "source": [
        "train_X = train_X.reshape(-1,28,28,1)"
      ]
    },
    {
      "cell_type": "code",
      "execution_count": 20,
      "metadata": {
        "colab": {
          "base_uri": "https://localhost:8080/"
        },
        "id": "Heh7Rz4L0Zu2",
        "outputId": "d98ad158-1a2a-4c10-bef6-e7d3348f2245"
      },
      "outputs": [
        {
          "data": {
            "text/plain": [
              "(60000, 28, 28, 1)"
            ]
          },
          "execution_count": 20,
          "metadata": {},
          "output_type": "execute_result"
        }
      ],
      "source": [
        "train_X.shape"
      ]
    },
    {
      "cell_type": "code",
      "execution_count": 21,
      "metadata": {
        "colab": {
          "base_uri": "https://localhost:8080/"
        },
        "id": "cwum6uS10b2Z",
        "outputId": "599030b9-1c26-422f-e057-9c0033aa4172"
      },
      "outputs": [
        {
          "data": {
            "text/plain": [
              "(10000, 28, 28)"
            ]
          },
          "execution_count": 21,
          "metadata": {},
          "output_type": "execute_result"
        }
      ],
      "source": [
        "test_X.shape"
      ]
    },
    {
      "cell_type": "code",
      "execution_count": 22,
      "metadata": {
        "colab": {
          "base_uri": "https://localhost:8080/"
        },
        "id": "Q-g0owOS1H2m",
        "outputId": "cd63f5b0-5338-49f7-cf88-cb7c20522674"
      },
      "outputs": [
        {
          "data": {
            "text/plain": [
              "(10000, 28, 28, 1)"
            ]
          },
          "execution_count": 22,
          "metadata": {},
          "output_type": "execute_result"
        }
      ],
      "source": [
        "test_X = test_X.reshape(-1,28,28,1)\n",
        "test_X.shape"
      ]
    },
    {
      "cell_type": "code",
      "execution_count": 23,
      "metadata": {
        "id": "-AfE2yCs1SB7"
      },
      "outputs": [],
      "source": [
        "#Molding pixel value in range of 0-1\n",
        "train_X = train_X.astype('float32')\n",
        "test_X = test_X.astype('float32')\n",
        "train_X = train_X/255\n",
        "test_X = test_X /255"
      ]
    },
    {
      "cell_type": "code",
      "execution_count": 24,
      "metadata": {
        "colab": {
          "base_uri": "https://localhost:8080/"
        },
        "id": "wVkH08l_2Iem",
        "outputId": "c64d059d-6438-4713-a864-f3707c24bad6"
      },
      "outputs": [
        {
          "data": {
            "text/plain": [
              "2"
            ]
          },
          "execution_count": 24,
          "metadata": {},
          "output_type": "execute_result"
        }
      ],
      "source": [
        "train_Y[5]"
      ]
    },
    {
      "cell_type": "code",
      "execution_count": 25,
      "metadata": {
        "colab": {
          "base_uri": "https://localhost:8080/"
        },
        "id": "-y6u2_hf2PMX",
        "outputId": "692712b7-c32d-47b3-8e0d-219e6749ee0f"
      },
      "outputs": [
        {
          "data": {
            "text/plain": [
              "1"
            ]
          },
          "execution_count": 25,
          "metadata": {},
          "output_type": "execute_result"
        }
      ],
      "source": [
        "test_Y[5]"
      ]
    },
    {
      "cell_type": "code",
      "execution_count": 26,
      "metadata": {
        "colab": {
          "base_uri": "https://localhost:8080/"
        },
        "id": "UYUzVkSh2VJG",
        "outputId": "69891efa-5f39-45c2-903f-48036551345a"
      },
      "outputs": [
        {
          "data": {
            "text/plain": [
              "array([0., 0., 0., 0., 0., 0., 0., 0., 0., 1.], dtype=float32)"
            ]
          },
          "execution_count": 26,
          "metadata": {},
          "output_type": "execute_result"
        }
      ],
      "source": [
        "#now convert to the label to encoder array so that model don't treat label as extra hierarchy\n",
        "onehot_train_Y = to_categorical(train_Y)\n",
        "onehot_test_Y = to_categorical(test_Y)\n",
        "onehot_test_Y[0]"
      ]
    },
    {
      "cell_type": "code",
      "execution_count": 27,
      "metadata": {
        "id": "OnuVCYpn3Alq"
      },
      "outputs": [],
      "source": [
        "#Splitting Data sets into Train and validation sets\n",
        "from sklearn.model_selection import train_test_split\n",
        "train_X,valid_X,train_label,valid_label = train_test_split(train_X, onehot_train_Y, test_size=0.2, random_state=13)"
      ]
    },
    {
      "cell_type": "code",
      "execution_count": 28,
      "metadata": {
        "id": "kJnHJqEv3h11"
      },
      "outputs": [],
      "source": [
        "import keras\n",
        "from keras.models import Sequential,Model\n",
        "from tensorflow.keras import Input\n",
        "from keras.layers import Dense, Dropout, Flatten\n",
        "from keras.layers import Conv2D, MaxPooling2D\n",
        "from tensorflow.keras.layers import BatchNormalization\n",
        "from keras.layers import LeakyReLU"
      ]
    },
    {
      "cell_type": "code",
      "execution_count": 29,
      "metadata": {
        "id": "uhwzy6tB3p7I"
      },
      "outputs": [],
      "source": [
        "batch_size = 64\n",
        "epochs = 30\n",
        "num_classes = 10"
      ]
    },
    {
      "cell_type": "code",
      "execution_count": 30,
      "metadata": {
        "id": "6Z6dRsse4ke9"
      },
      "outputs": [],
      "source": [
        "model = Sequential()\n",
        "model.add(Conv2D(32, kernel_size=(3, 3),activation='linear',padding='same',input_shape=(28,28,1)))\n",
        "model.add(LeakyReLU(alpha=0.1))\n",
        "model.add(MaxPooling2D((2, 2),padding='same'))\n",
        "model.add(Dropout(0.25))\n",
        "model.add(Conv2D(64, (3, 3), activation='linear',padding='same'))\n",
        "model.add(LeakyReLU(alpha=0.1))\n",
        "model.add(MaxPooling2D(pool_size=(2, 2),padding='same'))\n",
        "model.add(Dropout(0.25))\n",
        "model.add(Conv2D(128, (3, 3), activation='linear',padding='same'))\n",
        "model.add(LeakyReLU(alpha=0.1))\n",
        "model.add(MaxPooling2D(pool_size=(2, 2),padding='same'))\n",
        "model.add(Dropout(0.4))\n",
        "model.add(Conv2D(256, (3, 3), activation='linear',padding='same'))\n",
        "model.add(LeakyReLU(alpha=0.1))\n",
        "model.add(MaxPooling2D(pool_size=(2, 2),padding='same'))\n",
        "model.add(Dropout(0.45))\n",
        "model.add(Conv2D(512, (3, 3), activation='linear',padding='same'))\n",
        "model.add(LeakyReLU(alpha=0.1))\n",
        "model.add(MaxPooling2D(pool_size=(2, 2),padding='same'))\n",
        "model.add(Dropout(0.45))\n",
        "model.add(Flatten())\n",
        "model.add(Dense(128, activation='linear'))\n",
        "model.add(LeakyReLU(alpha=0.1))\n",
        "model.add(Dropout(0.3))\n",
        "model.add(Dense(num_classes, activation='softmax'))"
      ]
    },
    {
      "cell_type": "code",
      "execution_count": 31,
      "metadata": {
        "colab": {
          "base_uri": "https://localhost:8080/"
        },
        "id": "A4UvXN5S42ag",
        "outputId": "6d0e4856-ca04-4fbe-cec3-5c8139962d00"
      },
      "outputs": [
        {
          "name": "stdout",
          "output_type": "stream",
          "text": [
            "Model: \"sequential\"\n",
            "_________________________________________________________________\n",
            " Layer (type)                Output Shape              Param #   \n",
            "=================================================================\n",
            " conv2d (Conv2D)             (None, 28, 28, 32)        320       \n",
            "                                                                 \n",
            " leaky_re_lu (LeakyReLU)     (None, 28, 28, 32)        0         \n",
            "                                                                 \n",
            " max_pooling2d (MaxPooling2  (None, 14, 14, 32)        0         \n",
            " D)                                                              \n",
            "                                                                 \n",
            " dropout (Dropout)           (None, 14, 14, 32)        0         \n",
            "                                                                 \n",
            " conv2d_1 (Conv2D)           (None, 14, 14, 64)        18496     \n",
            "                                                                 \n",
            " leaky_re_lu_1 (LeakyReLU)   (None, 14, 14, 64)        0         \n",
            "                                                                 \n",
            " max_pooling2d_1 (MaxPoolin  (None, 7, 7, 64)          0         \n",
            " g2D)                                                            \n",
            "                                                                 \n",
            " dropout_1 (Dropout)         (None, 7, 7, 64)          0         \n",
            "                                                                 \n",
            " conv2d_2 (Conv2D)           (None, 7, 7, 128)         73856     \n",
            "                                                                 \n",
            " leaky_re_lu_2 (LeakyReLU)   (None, 7, 7, 128)         0         \n",
            "                                                                 \n",
            " max_pooling2d_2 (MaxPoolin  (None, 4, 4, 128)         0         \n",
            " g2D)                                                            \n",
            "                                                                 \n",
            " dropout_2 (Dropout)         (None, 4, 4, 128)         0         \n",
            "                                                                 \n",
            " conv2d_3 (Conv2D)           (None, 4, 4, 256)         295168    \n",
            "                                                                 \n",
            " leaky_re_lu_3 (LeakyReLU)   (None, 4, 4, 256)         0         \n",
            "                                                                 \n",
            " max_pooling2d_3 (MaxPoolin  (None, 2, 2, 256)         0         \n",
            " g2D)                                                            \n",
            "                                                                 \n",
            " dropout_3 (Dropout)         (None, 2, 2, 256)         0         \n",
            "                                                                 \n",
            " conv2d_4 (Conv2D)           (None, 2, 2, 512)         1180160   \n",
            "                                                                 \n",
            " leaky_re_lu_4 (LeakyReLU)   (None, 2, 2, 512)         0         \n",
            "                                                                 \n",
            " max_pooling2d_4 (MaxPoolin  (None, 1, 1, 512)         0         \n",
            " g2D)                                                            \n",
            "                                                                 \n",
            " dropout_4 (Dropout)         (None, 1, 1, 512)         0         \n",
            "                                                                 \n",
            " flatten (Flatten)           (None, 512)               0         \n",
            "                                                                 \n",
            " dense (Dense)               (None, 128)               65664     \n",
            "                                                                 \n",
            " leaky_re_lu_5 (LeakyReLU)   (None, 128)               0         \n",
            "                                                                 \n",
            " dropout_5 (Dropout)         (None, 128)               0         \n",
            "                                                                 \n",
            " dense_1 (Dense)             (None, 10)                1290      \n",
            "                                                                 \n",
            "=================================================================\n",
            "Total params: 1634954 (6.24 MB)\n",
            "Trainable params: 1634954 (6.24 MB)\n",
            "Non-trainable params: 0 (0.00 Byte)\n",
            "_________________________________________________________________\n"
          ]
        }
      ],
      "source": [
        "model.summary()"
      ]
    },
    {
      "cell_type": "code",
      "execution_count": 32,
      "metadata": {
        "id": "9drfHywa5Sh7"
      },
      "outputs": [],
      "source": [
        "model.compile(loss=keras.losses.categorical_crossentropy, optimizer=keras.optimizers.Adam(),metrics=['accuracy'])"
      ]
    },
    {
      "cell_type": "code",
      "execution_count": 33,
      "metadata": {
        "colab": {
          "base_uri": "https://localhost:8080/",
          "height": 598
        },
        "id": "XR59FRFI5dEU",
        "outputId": "e9b260da-8402-4d80-ca51-f34e0488a0ed"
      },
      "outputs": [
        {
          "name": "stdout",
          "output_type": "stream",
          "text": [
            "Epoch 1/30\n",
            "750/750 [==============================] - 107s 141ms/step - loss: 0.7239 - accuracy: 0.7276 - val_loss: 0.4145 - val_accuracy: 0.8443\n",
            "Epoch 2/30\n",
            "750/750 [==============================] - 104s 139ms/step - loss: 0.4150 - accuracy: 0.8504 - val_loss: 0.3227 - val_accuracy: 0.8800\n",
            "Epoch 3/30\n",
            "750/750 [==============================] - 104s 138ms/step - loss: 0.3590 - accuracy: 0.8686 - val_loss: 0.2851 - val_accuracy: 0.8947\n",
            "Epoch 4/30\n",
            "750/750 [==============================] - 106s 141ms/step - loss: 0.3304 - accuracy: 0.8777 - val_loss: 0.2754 - val_accuracy: 0.8983\n",
            "Epoch 5/30\n",
            "750/750 [==============================] - 106s 141ms/step - loss: 0.3130 - accuracy: 0.8869 - val_loss: 0.2603 - val_accuracy: 0.9022\n",
            "Epoch 6/30\n",
            "750/750 [==============================] - 106s 141ms/step - loss: 0.3009 - accuracy: 0.8887 - val_loss: 0.2567 - val_accuracy: 0.9045\n",
            "Epoch 7/30\n",
            "750/750 [==============================] - 108s 144ms/step - loss: 0.2870 - accuracy: 0.8953 - val_loss: 0.2699 - val_accuracy: 0.9015\n",
            "Epoch 8/30\n",
            "750/750 [==============================] - 106s 141ms/step - loss: 0.2801 - accuracy: 0.8972 - val_loss: 0.2458 - val_accuracy: 0.9090\n",
            "Epoch 9/30\n",
            "750/750 [==============================] - 105s 139ms/step - loss: 0.2766 - accuracy: 0.8982 - val_loss: 0.2551 - val_accuracy: 0.9039\n",
            "Epoch 10/30\n",
            "750/750 [==============================] - 103s 138ms/step - loss: 0.2693 - accuracy: 0.9014 - val_loss: 0.2464 - val_accuracy: 0.9128\n",
            "Epoch 11/30\n",
            "750/750 [==============================] - 105s 140ms/step - loss: 0.2636 - accuracy: 0.9042 - val_loss: 0.2458 - val_accuracy: 0.9145\n",
            "Epoch 12/30\n",
            "750/750 [==============================] - 107s 143ms/step - loss: 0.2595 - accuracy: 0.9036 - val_loss: 0.2400 - val_accuracy: 0.9082\n",
            "Epoch 13/30\n",
            "750/750 [==============================] - 104s 139ms/step - loss: 0.2602 - accuracy: 0.9051 - val_loss: 0.2327 - val_accuracy: 0.9155\n",
            "Epoch 14/30\n",
            "750/750 [==============================] - 105s 140ms/step - loss: 0.2556 - accuracy: 0.9059 - val_loss: 0.2378 - val_accuracy: 0.9153\n",
            "Epoch 15/30\n",
            "750/750 [==============================] - 104s 139ms/step - loss: 0.2527 - accuracy: 0.9086 - val_loss: 0.2416 - val_accuracy: 0.9127\n",
            "Epoch 16/30\n",
            "750/750 [==============================] - 106s 141ms/step - loss: 0.2500 - accuracy: 0.9082 - val_loss: 0.2403 - val_accuracy: 0.9162\n",
            "Epoch 17/30\n",
            "688/750 [==========================>...] - ETA: 8s - loss: 0.2442 - accuracy: 0.9105"
          ]
        }
      ],
      "source": [
        "train_dropout = model.fit(train_X, train_label, batch_size=batch_size,epochs=epochs,verbose=1,validation_data=(valid_X, valid_label))"
      ]
    },
    {
      "cell_type": "code",
      "execution_count": null,
      "metadata": {
        "id": "vrWi_P6lYJXF"
      },
      "outputs": [],
      "source": [
        "test_eval = model.evaluate(test_X, onehot_test_Y, verbose=1)"
      ]
    },
    {
      "cell_type": "code",
      "execution_count": null,
      "metadata": {
        "id": "FQplsrvq5kYw"
      },
      "outputs": [],
      "source": [
        "accuracy = train_dropout.history['accuracy']\n",
        "val_accuracy = train_dropout.history['val_accuracy']\n",
        "loss = train_dropout.history['loss']\n",
        "val_loss = train_dropout.history['val_loss']\n",
        "epochs = range(len(accuracy))\n",
        "plt.plot(epochs, accuracy, 'bo', label='Training accuracy')\n",
        "plt.plot(epochs, val_accuracy, 'b', label='Validation accuracy')\n",
        "plt.title('Training and validation accuracy')\n",
        "plt.legend()\n",
        "plt.figure()\n",
        "plt.plot(epochs, loss, 'bo', label='Training loss')\n",
        "plt.plot(epochs, val_loss, 'b', label='Validation loss')\n",
        "plt.title('Training and validation loss')\n",
        "plt.legend()\n",
        "plt.show()"
      ]
    },
    {
      "cell_type": "code",
      "execution_count": null,
      "metadata": {},
      "outputs": [],
      "source": [
        "#saving the trained model to current repository\n",
        "model.save(\"model.h5\")"
      ]
    },
    {
      "cell_type": "code",
      "execution_count": null,
      "metadata": {},
      "outputs": [],
      "source": [
        "#load the save model\n",
        "#loaded_model = keras.models.load_model(\"model.h5\")"
      ]
    }
  ],
  "metadata": {
    "colab": {
      "provenance": []
    },
    "kernelspec": {
      "display_name": "Python 3",
      "name": "python3"
    },
    "language_info": {
      "codemirror_mode": {
        "name": "ipython",
        "version": 3
      },
      "file_extension": ".py",
      "mimetype": "text/x-python",
      "name": "python",
      "nbconvert_exporter": "python",
      "pygments_lexer": "ipython3",
      "version": "3.11.4"
    }
  },
  "nbformat": 4,
  "nbformat_minor": 0
}
