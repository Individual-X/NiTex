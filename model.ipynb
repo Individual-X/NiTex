{
  "cells": [
    {
      "cell_type": "markdown",
      "metadata": {
        "id": "QY6Ujymz8hKW"
      },
      "source": [
        "Fetching data from online server as this assesment will run on Virtual Environment"
      ]
    },
    {
      "cell_type": "code",
      "execution_count": null,
      "metadata": {
        "id": "e1W4s4XW8fPs"
      },
      "outputs": [],
      "source": [
        "#improting data sets from Keras dataset collection\n",
        "from keras.datasets import fashion_mnist"
      ]
    },
    {
      "cell_type": "code",
      "execution_count": null,
      "metadata": {
        "id": "AIlrGkCzG0fF"
      },
      "outputs": [],
      "source": [
        "#load dataset as per needed\n",
        "(train_X, train_Y), (test_X, test_Y) = fashion_mnist.load_data()"
      ]
    },
    {
      "cell_type": "markdown",
      "metadata": {
        "id": "HREp9yFg9hBY"
      },
      "source": [
        "Extracting information for better understanding on data sets"
      ]
    },
    {
      "cell_type": "code",
      "execution_count": null,
      "metadata": {
        "colab": {
          "base_uri": "https://localhost:8080/"
        },
        "id": "LWGeKHoSHKXT",
        "outputId": "14caea17-1b88-4b92-9887-293d0b1f9b95"
      },
      "outputs": [],
      "source": [
        "#printing data shape\n",
        "print(train_X.shape)\n",
        "print(train_Y.shape)\n",
        "print(test_X.shape)\n",
        "print(test_Y.shape)"
      ]
    },
    {
      "cell_type": "code",
      "execution_count": null,
      "metadata": {
        "colab": {
          "base_uri": "https://localhost:8080/"
        },
        "id": "DshGLqD2DHRo",
        "outputId": "00885929-36ee-4124-af1f-ac4cd96fd962"
      },
      "outputs": [],
      "source": [
        "print(train_X[0])"
      ]
    },
    {
      "cell_type": "code",
      "execution_count": null,
      "metadata": {
        "colab": {
          "base_uri": "https://localhost:8080/"
        },
        "id": "HH0Bns1lBHNy",
        "outputId": "f198d11d-5ba7-4c05-9035-f81bcc8968ce"
      },
      "outputs": [],
      "source": [
        "type(train_X)"
      ]
    },
    {
      "cell_type": "code",
      "execution_count": null,
      "metadata": {
        "colab": {
          "base_uri": "https://localhost:8080/"
        },
        "id": "w-l6Q_D6DtnH",
        "outputId": "fe617352-c14d-4c69-dd54-08f076756269"
      },
      "outputs": [],
      "source": [
        "print(train_Y[0])"
      ]
    },
    {
      "cell_type": "code",
      "execution_count": null,
      "metadata": {
        "colab": {
          "base_uri": "https://localhost:8080/"
        },
        "id": "SOnqPsByDzOn",
        "outputId": "2a85b835-ede9-4302-f2cc-80c2d9f29905"
      },
      "outputs": [],
      "source": [
        "print(test_X[0])"
      ]
    },
    {
      "cell_type": "code",
      "execution_count": null,
      "metadata": {
        "id": "EV2HdCm5HUIf"
      },
      "outputs": [],
      "source": [
        "#visualise the data\n",
        "#import necessary library\n",
        "import numpy as np\n",
        "from keras.utils import to_categorical\n",
        "import matplotlib.pyplot as plt\n",
        "%matplotlib inline"
      ]
    },
    {
      "cell_type": "code",
      "execution_count": null,
      "metadata": {
        "id": "ah5Ej1fDJAcy"
      },
      "outputs": [],
      "source": [
        "#usnique number of classes\n",
        "number_classes = np.unique(train_Y)"
      ]
    },
    {
      "cell_type": "code",
      "execution_count": null,
      "metadata": {
        "colab": {
          "base_uri": "https://localhost:8080/"
        },
        "id": "rp9uC_flJRA5",
        "outputId": "7c9800ab-9946-404c-e491-d8a48ccbb0e5"
      },
      "outputs": [],
      "source": [
        "number_classes"
      ]
    },
    {
      "cell_type": "code",
      "execution_count": null,
      "metadata": {
        "id": "XWVyatiUJT2X"
      },
      "outputs": [],
      "source": [
        "#total number of classes\n",
        "len_classes = len(number_classes)"
      ]
    },
    {
      "cell_type": "code",
      "execution_count": null,
      "metadata": {
        "colab": {
          "base_uri": "https://localhost:8080/"
        },
        "id": "AkHeB0-4JkPW",
        "outputId": "56ef006b-1abd-4a88-de93-28bd6e595002"
      },
      "outputs": [],
      "source": [
        "len_classes"
      ]
    },
    {
      "cell_type": "code",
      "execution_count": null,
      "metadata": {
        "colab": {
          "base_uri": "https://localhost:8080/",
          "height": 429
        },
        "id": "YvNEQn2IJn03",
        "outputId": "1d171c66-ea76-4b77-f9b4-87eb5f56a1df"
      },
      "outputs": [],
      "source": [
        "#plotting the datasets for\n",
        "plt.figure(figsize=[10,10])\n",
        "plt.subplot(121)\n",
        "plt.imshow(train_X[0,:,:], cmap =\"gray\")\n",
        "\n",
        "plt.subplot(122)\n",
        "plt.imshow(test_X[0, :, :], cmap = \"gray\")\n"
      ]
    },
    {
      "cell_type": "code",
      "execution_count": null,
      "metadata": {
        "colab": {
          "base_uri": "https://localhost:8080/",
          "height": 806
        },
        "id": "zvH5b71IDZ_B",
        "outputId": "c9aba385-f594-428a-d30a-d30c661db70f"
      },
      "outputs": [],
      "source": [
        "labels_map = {0: 'T-Shirt', 1: 'Trouser', 2: 'Pullover', 3: 'Dress', 4: 'Coat',\n",
        "              5: 'Sandal', 6: 'Shirt', 7: 'Sneaker', 8: 'Bag', 9: 'Ankle Boot'}\n",
        "columns = 5\n",
        "rows = 5\n",
        "fig = plt.figure(figsize=(8, 8))\n",
        "\n",
        "for i in range(1, columns * rows+1):\n",
        "    data_idx = np.random.randint(len(train_X))\n",
        "    img = train_X[data_idx].reshape([28, 28])\n",
        "    label = labels_map[train_Y[data_idx]]\n",
        "\n",
        "    fig.add_subplot(rows, columns, i)\n",
        "    plt.title(label)\n",
        "    plt.imshow(img, cmap='gray')\n",
        "    plt.axis('off')\n",
        "plt.tight_layout()\n",
        "plt.show()"
      ]
    },
    {
      "cell_type": "code",
      "execution_count": null,
      "metadata": {},
      "outputs": [],
      "source": [
        "#Data Distribution\n",
        "plt.bar(train_Y, height = 1)\n",
        "plt.xlabel(\"Data Class\")\n",
        "plt.ylabel(\"Value Count\")"
      ]
    },
    {
      "cell_type": "code",
      "execution_count": null,
      "metadata": {},
      "outputs": [],
      "source": [
        "unique, frequency = np.unique(train_Y, return_counts = True)\n",
        "print(\"Frequency Values:\",\n",
        "      frequency)\n"
      ]
    },
    {
      "cell_type": "code",
      "execution_count": null,
      "metadata": {},
      "outputs": [],
      "source": [
        "#data distribution in py charts\n",
        "dlabels = ['T-Shirt','Trouser','Pullover','Dress','Coat','Sandal','Shirt','Sneaker','Bag','Ankle Boot']\n",
        "plt.pie(frequency, labels=dlabels)"
      ]
    },
    {
      "cell_type": "code",
      "execution_count": null,
      "metadata": {
        "colab": {
          "base_uri": "https://localhost:8080/"
        },
        "id": "CwROr7vtMCRy",
        "outputId": "20f35aaa-a648-48cf-8495-16ddc711a74c"
      },
      "outputs": [],
      "source": [
        "#checking data shape and create pipe line for CNN input\n",
        "train_X.shape"
      ]
    },
    {
      "cell_type": "code",
      "execution_count": null,
      "metadata": {
        "id": "CurH-64w0SWu"
      },
      "outputs": [],
      "source": [
        "train_X = train_X.reshape(-1,28,28,1)"
      ]
    },
    {
      "cell_type": "code",
      "execution_count": null,
      "metadata": {
        "colab": {
          "base_uri": "https://localhost:8080/"
        },
        "id": "Heh7Rz4L0Zu2",
        "outputId": "d98ad158-1a2a-4c10-bef6-e7d3348f2245"
      },
      "outputs": [],
      "source": [
        "train_X.shape"
      ]
    },
    {
      "cell_type": "code",
      "execution_count": null,
      "metadata": {
        "colab": {
          "base_uri": "https://localhost:8080/"
        },
        "id": "cwum6uS10b2Z",
        "outputId": "599030b9-1c26-422f-e057-9c0033aa4172"
      },
      "outputs": [],
      "source": [
        "test_X.shape"
      ]
    },
    {
      "cell_type": "code",
      "execution_count": null,
      "metadata": {
        "colab": {
          "base_uri": "https://localhost:8080/"
        },
        "id": "Q-g0owOS1H2m",
        "outputId": "cd63f5b0-5338-49f7-cf88-cb7c20522674"
      },
      "outputs": [],
      "source": [
        "test_X = test_X.reshape(-1,28,28,1)\n",
        "test_X.shape"
      ]
    },
    {
      "cell_type": "code",
      "execution_count": null,
      "metadata": {
        "id": "-AfE2yCs1SB7"
      },
      "outputs": [],
      "source": [
        "#Molding pixel value in range of 0-1\n",
        "train_X = train_X.astype('float32')\n",
        "test_X = test_X.astype('float32')\n",
        "train_X = train_X/255\n",
        "test_X = test_X /255"
      ]
    },
    {
      "cell_type": "code",
      "execution_count": null,
      "metadata": {
        "colab": {
          "base_uri": "https://localhost:8080/"
        },
        "id": "wVkH08l_2Iem",
        "outputId": "c64d059d-6438-4713-a864-f3707c24bad6"
      },
      "outputs": [],
      "source": [
        "train_Y[5]"
      ]
    },
    {
      "cell_type": "code",
      "execution_count": null,
      "metadata": {
        "colab": {
          "base_uri": "https://localhost:8080/"
        },
        "id": "-y6u2_hf2PMX",
        "outputId": "692712b7-c32d-47b3-8e0d-219e6749ee0f"
      },
      "outputs": [],
      "source": [
        "test_Y[5]"
      ]
    },
    {
      "cell_type": "code",
      "execution_count": null,
      "metadata": {
        "colab": {
          "base_uri": "https://localhost:8080/"
        },
        "id": "UYUzVkSh2VJG",
        "outputId": "69891efa-5f39-45c2-903f-48036551345a"
      },
      "outputs": [],
      "source": [
        "#now convert to the label to encoder array so that model don't treat label as extra hierarchy\n",
        "onehot_train_Y = to_categorical(train_Y)\n",
        "onehot_test_Y = to_categorical(test_Y)\n",
        "onehot_test_Y[0]"
      ]
    },
    {
      "cell_type": "code",
      "execution_count": null,
      "metadata": {
        "id": "OnuVCYpn3Alq"
      },
      "outputs": [],
      "source": [
        "#Splitting Data sets into Train and validation sets\n",
        "from sklearn.model_selection import train_test_split\n",
        "train_X,valid_X,train_label,valid_label = train_test_split(train_X, onehot_train_Y, test_size=0.2, random_state=13)"
      ]
    },
    {
      "cell_type": "code",
      "execution_count": null,
      "metadata": {
        "id": "kJnHJqEv3h11"
      },
      "outputs": [],
      "source": [
        "#importing library for Model \n",
        "import keras\n",
        "from keras.models import Sequential,Model\n",
        "from tensorflow.keras import Input\n",
        "from keras.layers import Dense, Dropout, Flatten\n",
        "from keras.layers import Conv2D, MaxPooling2D\n",
        "from tensorflow.keras.layers import BatchNormalization\n",
        "from keras.layers import LeakyReLU\n",
        "from keras.callbacks import EarlyStopping\n",
        "import seaborn as sns\n",
        "from sklearn.metrics import confusion_matrix"
      ]
    },
    {
      "cell_type": "code",
      "execution_count": null,
      "metadata": {
        "id": "uhwzy6tB3p7I"
      },
      "outputs": [],
      "source": [
        "#Defining hyepr parameter\n",
        "batch_size = 64\n",
        "epochs = 50\n",
        "num_classes = 10"
      ]
    },
    {
      "cell_type": "code",
      "execution_count": null,
      "metadata": {
        "id": "6Z6dRsse4ke9"
      },
      "outputs": [],
      "source": [
        "model = Sequential()\n",
        "model.add(Conv2D(32, kernel_size=(3, 3),activation='linear',padding='same',input_shape=(28,28,1)))\n",
        "model.add(LeakyReLU(alpha=0.1))\n",
        "model.add(MaxPooling2D((2, 2),padding='same'))\n",
        "model.add(Dropout(0.25))\n",
        "model.add(Conv2D(64, (3, 3), activation='linear',padding='same'))\n",
        "model.add(LeakyReLU(alpha=0.1))\n",
        "model.add(MaxPooling2D(pool_size=(2, 2),padding='same'))\n",
        "model.add(Dropout(0.25))\n",
        "model.add(Conv2D(128, (3, 3), activation='linear',padding='same'))\n",
        "model.add(LeakyReLU(alpha=0.1))\n",
        "model.add(MaxPooling2D(pool_size=(2, 2),padding='same'))\n",
        "model.add(Dropout(0.4))\n",
        "model.add(Conv2D(256, (3, 3), activation='linear',padding='same'))\n",
        "model.add(LeakyReLU(alpha=0.1))\n",
        "model.add(MaxPooling2D(pool_size=(2, 2),padding='same'))\n",
        "model.add(Dropout(0.45))\n",
        "model.add(Conv2D(512, (3, 3), activation='linear',padding='same'))\n",
        "model.add(LeakyReLU(alpha=0.1))\n",
        "model.add(MaxPooling2D(pool_size=(2, 2),padding='same'))\n",
        "model.add(Dropout(0.45))\n",
        "model.add(Flatten())\n",
        "model.add(Dense(128, activation='linear'))\n",
        "model.add(LeakyReLU(alpha=0.1))\n",
        "model.add(Dropout(0.3))\n",
        "model.add(Dense(num_classes, activation='softmax'))"
      ]
    },
    {
      "cell_type": "code",
      "execution_count": null,
      "metadata": {
        "colab": {
          "base_uri": "https://localhost:8080/"
        },
        "id": "A4UvXN5S42ag",
        "outputId": "6d0e4856-ca04-4fbe-cec3-5c8139962d00"
      },
      "outputs": [],
      "source": [
        "model.summary()"
      ]
    },
    {
      "cell_type": "code",
      "execution_count": null,
      "metadata": {
        "id": "9drfHywa5Sh7"
      },
      "outputs": [],
      "source": [
        "model.compile(loss=keras.losses.categorical_crossentropy, optimizer=keras.optimizers.Adam(),metrics=['accuracy'])"
      ]
    },
    {
      "cell_type": "code",
      "execution_count": null,
      "metadata": {
        "colab": {
          "base_uri": "https://localhost:8080/",
          "height": 598
        },
        "id": "XR59FRFI5dEU",
        "outputId": "e9b260da-8402-4d80-ca51-f34e0488a0ed"
      },
      "outputs": [],
      "source": [
        "#using Early stopping and regulariztion to avaoid over fitting and will wait for 5 more epoch to observ the performance\n",
        "early_stopping = EarlyStopping(monitor='val_accuracy', patience=5)\n",
        "train_dropout = model.fit(train_X, train_label, batch_size=batch_size,epochs=epochs,verbose=1,validation_data=(valid_X, valid_label), callbacks=[early_stopping])"
      ]
    },
    {
      "cell_type": "code",
      "execution_count": null,
      "metadata": {
        "id": "vrWi_P6lYJXF"
      },
      "outputs": [],
      "source": [
        "test_eval = model.evaluate(test_X, onehot_test_Y, verbose=1)"
      ]
    },
    {
      "cell_type": "code",
      "execution_count": null,
      "metadata": {
        "id": "FQplsrvq5kYw"
      },
      "outputs": [],
      "source": [
        "accuracy = train_dropout.history['accuracy']\n",
        "val_accuracy = train_dropout.history['val_accuracy']\n",
        "loss = train_dropout.history['loss']\n",
        "val_loss = train_dropout.history['val_loss']\n",
        "epochs = range(len(accuracy))\n",
        "plt.plot(epochs, accuracy, 'bo', label='Training accuracy')\n",
        "plt.plot(epochs, val_accuracy, 'b', label='Validation accuracy')\n",
        "plt.title('Training and validation accuracy')\n",
        "plt.legend()\n",
        "plt.figure()\n",
        "plt.plot(epochs, loss, 'bo', label='Training loss')\n",
        "plt.plot(epochs, val_loss, 'b', label='Validation loss')\n",
        "plt.title('Training and validation loss')\n",
        "plt.legend()\n",
        "plt.show()"
      ]
    },
    {
      "cell_type": "code",
      "execution_count": null,
      "metadata": {},
      "outputs": [],
      "source": [
        "predict= model.predict(test_X)\n",
        "res = confusion_matrix(test_X, predict)\n",
        "plt.figure(figsize=(6, 6))\n",
        "sns.heatmap(res, annot=True, cbar=True)\n",
        "plt.title(\"Confusion Matrix\")\n",
        "plt.xlabel(\"Predicted\")\n",
        "plt.ylabel(\"True Value\")\n",
        "plt.show()"
      ]
    },
    {
      "cell_type": "code",
      "execution_count": null,
      "metadata": {},
      "outputs": [],
      "source": [
        "#saving the trained model to current repository\n",
        "#model.save(\"model.h5\")"
      ]
    },
    {
      "cell_type": "code",
      "execution_count": null,
      "metadata": {},
      "outputs": [],
      "source": [
        "#load the save model\n",
        "#loaded_model = keras.models.load_model(\"model.h5\")"
      ]
    }
  ],
  "metadata": {
    "colab": {
      "provenance": []
    },
    "kernelspec": {
      "display_name": "Python 3",
      "name": "python3"
    },
    "language_info": {
      "codemirror_mode": {
        "name": "ipython",
        "version": 3
      },
      "file_extension": ".py",
      "mimetype": "text/x-python",
      "name": "python",
      "nbconvert_exporter": "python",
      "pygments_lexer": "ipython3",
      "version": "3.11.4"
    }
  },
  "nbformat": 4,
  "nbformat_minor": 0
}
